{
 "cells": [
  {
   "cell_type": "code",
   "execution_count": 1,
   "id": "c9a1983d",
   "metadata": {},
   "outputs": [],
   "source": [
    "import pandas as pd\n",
    "import numpy as np\n",
    "import os\n",
    "import matplotlib.pyplot as plt\n",
    "import seaborn as sns\n",
    "import scipy"
   ]
  },
  {
   "cell_type": "code",
   "execution_count": 2,
   "id": "cf09a90e",
   "metadata": {},
   "outputs": [],
   "source": [
    "#define path to main Instacart project folder\n",
    "InstacartProjectFolder=r'C:\\Users\\user\\Instacart Basket Analysis 02042023'"
   ]
  },
  {
   "cell_type": "code",
   "execution_count": 3,
   "id": "972d37a9",
   "metadata": {},
   "outputs": [],
   "source": [
    "#import Orders original data set\n",
    "ords_original=pd.read_csv(os.path.join(InstacartProjectFolder,'02 Data','Original Data','orders.csv'))"
   ]
  },
  {
   "cell_type": "code",
   "execution_count": 4,
   "id": "278d0f77",
   "metadata": {},
   "outputs": [
    {
     "data": {
      "text/plain": [
       "(3421083, 7)"
      ]
     },
     "execution_count": 4,
     "metadata": {},
     "output_type": "execute_result"
    }
   ],
   "source": [
    "ords_original.shape"
   ]
  },
  {
   "cell_type": "code",
   "execution_count": 5,
   "id": "b7b1f234",
   "metadata": {},
   "outputs": [],
   "source": [
    "#import orders products prior original data\n",
    "ords_products_prior=pd.read_csv(os.path.join(InstacartProjectFolder,'02 Data','Original Data','order_products_prior.csv'))"
   ]
  },
  {
   "cell_type": "code",
   "execution_count": 7,
   "id": "6634081b",
   "metadata": {
    "scrolled": true
   },
   "outputs": [
    {
     "data": {
      "text/plain": [
       "(32434489, 4)"
      ]
     },
     "execution_count": 7,
     "metadata": {},
     "output_type": "execute_result"
    }
   ],
   "source": [
    "ords_products_prior.shape"
   ]
  },
  {
   "cell_type": "code",
   "execution_count": 8,
   "id": "3e5fabca",
   "metadata": {},
   "outputs": [],
   "source": [
    "#import original products data\n",
    "products_original=pd.read_csv(os.path.join(InstacartProjectFolder,'02 Data','Original Data','products.csv'))"
   ]
  },
  {
   "cell_type": "code",
   "execution_count": 9,
   "id": "e8dda00b",
   "metadata": {},
   "outputs": [
    {
     "data": {
      "text/plain": [
       "(49693, 5)"
      ]
     },
     "execution_count": 9,
     "metadata": {},
     "output_type": "execute_result"
    }
   ],
   "source": [
    "products_original.shape\n"
   ]
  },
  {
   "cell_type": "code",
   "execution_count": 10,
   "id": "fd5c7f2e",
   "metadata": {},
   "outputs": [],
   "source": [
    "#import original customers data\n",
    "customers_original=pd.read_csv(os.path.join(InstacartProjectFolder,'02 Data','Original Data','customers.csv'))"
   ]
  },
  {
   "cell_type": "code",
   "execution_count": 11,
   "id": "acb4a7ed",
   "metadata": {},
   "outputs": [
    {
     "data": {
      "text/plain": [
       "(206209, 10)"
      ]
     },
     "execution_count": 11,
     "metadata": {},
     "output_type": "execute_result"
    }
   ],
   "source": [
    "customers_original.shape"
   ]
  },
  {
   "cell_type": "code",
   "execution_count": 8,
   "id": "925ecb8f",
   "metadata": {},
   "outputs": [],
   "source": [
    "#import orders after consistency checks\n",
    "ords_afterconsistencychecks=pd.read_csv(os.path.join(InstacartProjectFolder,'02 Data','Prepared Data','orders_wrangled.csv'))"
   ]
  },
  {
   "cell_type": "code",
   "execution_count": 9,
   "id": "0516a8db",
   "metadata": {},
   "outputs": [
    {
     "data": {
      "text/plain": [
       "(3421083, 8)"
      ]
     },
     "execution_count": 9,
     "metadata": {},
     "output_type": "execute_result"
    }
   ],
   "source": [
    "ords_afterconsistencychecks.shape"
   ]
  },
  {
   "cell_type": "code",
   "execution_count": 15,
   "id": "7d008d1f",
   "metadata": {},
   "outputs": [],
   "source": [
    "#import orders_products_prior after consistency checks\n",
    "ords_prods_afterconsistencychecks=pd.read_csv(os.path.join(InstacartProjectFolder,'02 Data','Prepared Data','orders_wrangled_first_purchase.csv'))"
   ]
  },
  {
   "cell_type": "code",
   "execution_count": 16,
   "id": "5103c15c",
   "metadata": {},
   "outputs": [
    {
     "data": {
      "text/plain": [
       "(3421083, 9)"
      ]
     },
     "execution_count": 16,
     "metadata": {},
     "output_type": "execute_result"
    }
   ],
   "source": [
    "ords_afterconsistencychecks.shape"
   ]
  },
  {
   "cell_type": "code",
   "execution_count": 17,
   "id": "c63eafda",
   "metadata": {},
   "outputs": [],
   "source": [
    "#import Products after consistency\n",
    "prods_after=pd.read_csv(os.path.join(InstacartProjectFolder,'02 Data','Prepared Data','products_clean.csv'))"
   ]
  },
  {
   "cell_type": "code",
   "execution_count": 18,
   "id": "7bf761d8",
   "metadata": {},
   "outputs": [
    {
     "data": {
      "text/plain": [
       "(49672, 6)"
      ]
     },
     "execution_count": 18,
     "metadata": {},
     "output_type": "execute_result"
    }
   ],
   "source": [
    "prods_after.shape"
   ]
  },
  {
   "cell_type": "code",
   "execution_count": 19,
   "id": "4c635bb5",
   "metadata": {},
   "outputs": [],
   "source": [
    "custs_after=pd.read_pickle(os.path.join(InstacartProjectFolder,'02 Data','Prepared Data','customers_wrangled.pkl'))"
   ]
  },
  {
   "cell_type": "code",
   "execution_count": 20,
   "id": "8bdefc1c",
   "metadata": {},
   "outputs": [
    {
     "data": {
      "text/plain": [
       "(206209, 9)"
      ]
     },
     "execution_count": 20,
     "metadata": {},
     "output_type": "execute_result"
    }
   ],
   "source": [
    "custs_after.shape"
   ]
  },
  {
   "cell_type": "code",
   "execution_count": 21,
   "id": "76957b5f",
   "metadata": {},
   "outputs": [],
   "source": [
    "#import ords_prods_comb\n",
    "ords_prods_comb=pd.read_pickle(os.path.join(InstacartProjectFolder,'02 Data','Prepared Data','orders_products_combined.pkl'))"
   ]
  },
  {
   "cell_type": "code",
   "execution_count": 22,
   "id": "b5ef5a8c",
   "metadata": {},
   "outputs": [
    {
     "data": {
      "text/plain": [
       "(32434489, 11)"
      ]
     },
     "execution_count": 22,
     "metadata": {},
     "output_type": "execute_result"
    }
   ],
   "source": [
    "ords_prods_comb.shape"
   ]
  },
  {
   "cell_type": "code",
   "execution_count": 23,
   "id": "7e474750",
   "metadata": {},
   "outputs": [],
   "source": [
    "#import ords_prods_merge\n",
    "ords_prods_merge=pd.read_pickle(os.path.join(InstacartProjectFolder,'02 Data','Prepared Data','orders_products_merged.pkl'))"
   ]
  },
  {
   "cell_type": "code",
   "execution_count": 24,
   "id": "e893f9a9",
   "metadata": {},
   "outputs": [
    {
     "data": {
      "text/plain": [
       "(32404859, 16)"
      ]
     },
     "execution_count": 24,
     "metadata": {},
     "output_type": "execute_result"
    }
   ],
   "source": [
    "ords_prods_merge.shape"
   ]
  },
  {
   "cell_type": "code",
   "execution_count": 25,
   "id": "fa7b20d7",
   "metadata": {},
   "outputs": [],
   "source": [
    "#import ords_prods_all\n",
    "ords_prods_all=pd.read_pickle(os.path.join(InstacartProjectFolder,'02 Data','Prepared Data','orders_products_total.pkl'))"
   ]
  },
  {
   "cell_type": "code",
   "execution_count": 26,
   "id": "69260bf9",
   "metadata": {},
   "outputs": [
    {
     "data": {
      "text/plain": [
       "(32404859, 16)"
      ]
     },
     "execution_count": 26,
     "metadata": {},
     "output_type": "execute_result"
    }
   ],
   "source": [
    "ords_prods_all.shape"
   ]
  },
  {
   "cell_type": "code",
   "execution_count": 3,
   "id": "e67c322d",
   "metadata": {},
   "outputs": [],
   "source": [
    "ords_prods_cust=pd.read_pickle(os.path.join(InstacartProjectFolder,'02 Data','Prepared Data','ords_prods_cust_merge.pkl'))"
   ]
  },
  {
   "cell_type": "markdown",
   "id": "f4307857",
   "metadata": {},
   "source": [
    "#consistency checks"
   ]
  },
  {
   "cell_type": "code",
   "execution_count": 6,
   "id": "65022d58",
   "metadata": {},
   "outputs": [
    {
     "data": {
      "text/plain": [
       "Index(['order_id', 'user_id', 'eval_set', 'order_number', 'order_dow',\n",
       "       'order_hour_of_day', 'days_since_prior_order'],\n",
       "      dtype='object')"
      ]
     },
     "execution_count": 6,
     "metadata": {},
     "output_type": "execute_result"
    }
   ],
   "source": [
    "ords_original.columns"
   ]
  },
  {
   "cell_type": "code",
   "execution_count": 10,
   "id": "96f42a7c",
   "metadata": {},
   "outputs": [
    {
     "data": {
      "text/plain": [
       "Index(['Unnamed: 0', 'order_id', 'user_id', 'eval_set', 'order_number',\n",
       "       'order_dow', 'time_of_order', 'days_since_prior_order'],\n",
       "      dtype='object')"
      ]
     },
     "execution_count": 10,
     "metadata": {},
     "output_type": "execute_result"
    }
   ],
   "source": [
    "ords_afterconsistencychecks.columns"
   ]
  },
  {
   "cell_type": "code",
   "execution_count": 11,
   "id": "35b3c3f8",
   "metadata": {},
   "outputs": [
    {
     "data": {
      "text/html": [
       "<div>\n",
       "<style scoped>\n",
       "    .dataframe tbody tr th:only-of-type {\n",
       "        vertical-align: middle;\n",
       "    }\n",
       "\n",
       "    .dataframe tbody tr th {\n",
       "        vertical-align: top;\n",
       "    }\n",
       "\n",
       "    .dataframe thead th {\n",
       "        text-align: right;\n",
       "    }\n",
       "</style>\n",
       "<table border=\"1\" class=\"dataframe\">\n",
       "  <thead>\n",
       "    <tr style=\"text-align: right;\">\n",
       "      <th></th>\n",
       "      <th>Unnamed: 0</th>\n",
       "      <th>order_id</th>\n",
       "      <th>user_id</th>\n",
       "      <th>eval_set</th>\n",
       "      <th>order_number</th>\n",
       "      <th>order_dow</th>\n",
       "      <th>time_of_order</th>\n",
       "      <th>days_since_prior_order</th>\n",
       "    </tr>\n",
       "  </thead>\n",
       "  <tbody>\n",
       "    <tr>\n",
       "      <th>0</th>\n",
       "      <td>0</td>\n",
       "      <td>2539329</td>\n",
       "      <td>1</td>\n",
       "      <td>prior</td>\n",
       "      <td>1</td>\n",
       "      <td>2</td>\n",
       "      <td>8</td>\n",
       "      <td>NaN</td>\n",
       "    </tr>\n",
       "    <tr>\n",
       "      <th>1</th>\n",
       "      <td>1</td>\n",
       "      <td>2398795</td>\n",
       "      <td>1</td>\n",
       "      <td>prior</td>\n",
       "      <td>2</td>\n",
       "      <td>3</td>\n",
       "      <td>7</td>\n",
       "      <td>15.0</td>\n",
       "    </tr>\n",
       "    <tr>\n",
       "      <th>2</th>\n",
       "      <td>2</td>\n",
       "      <td>473747</td>\n",
       "      <td>1</td>\n",
       "      <td>prior</td>\n",
       "      <td>3</td>\n",
       "      <td>3</td>\n",
       "      <td>12</td>\n",
       "      <td>21.0</td>\n",
       "    </tr>\n",
       "    <tr>\n",
       "      <th>3</th>\n",
       "      <td>3</td>\n",
       "      <td>2254736</td>\n",
       "      <td>1</td>\n",
       "      <td>prior</td>\n",
       "      <td>4</td>\n",
       "      <td>4</td>\n",
       "      <td>7</td>\n",
       "      <td>29.0</td>\n",
       "    </tr>\n",
       "    <tr>\n",
       "      <th>4</th>\n",
       "      <td>4</td>\n",
       "      <td>431534</td>\n",
       "      <td>1</td>\n",
       "      <td>prior</td>\n",
       "      <td>5</td>\n",
       "      <td>4</td>\n",
       "      <td>15</td>\n",
       "      <td>28.0</td>\n",
       "    </tr>\n",
       "  </tbody>\n",
       "</table>\n",
       "</div>"
      ],
      "text/plain": [
       "   Unnamed: 0  order_id  user_id eval_set  order_number  order_dow  \\\n",
       "0           0   2539329        1    prior             1          2   \n",
       "1           1   2398795        1    prior             2          3   \n",
       "2           2    473747        1    prior             3          3   \n",
       "3           3   2254736        1    prior             4          4   \n",
       "4           4    431534        1    prior             5          4   \n",
       "\n",
       "   time_of_order  days_since_prior_order  \n",
       "0              8                     NaN  \n",
       "1              7                    15.0  \n",
       "2             12                    21.0  \n",
       "3              7                    29.0  \n",
       "4             15                    28.0  "
      ]
     },
     "execution_count": 11,
     "metadata": {},
     "output_type": "execute_result"
    }
   ],
   "source": [
    "ords_afterconsistencychecks.head()"
   ]
  },
  {
   "cell_type": "code",
   "execution_count": 4,
   "id": "a53a17ae",
   "metadata": {},
   "outputs": [
    {
     "data": {
      "text/plain": [
       "Index(['order_id', 'user_id', 'eval_set', 'order_number', 'order_dow',\n",
       "       'order_hour_of_day', 'days_since_prior_order', 'product_id',\n",
       "       'add_to_cart_order', 'reordered', 'Unnamed: 0', 'product_name',\n",
       "       'aisle_id', 'department_id', 'prices', '_merge', 'price_range_loc',\n",
       "       'busiest_day', 'busiest_day2', 'busiest_period_of_day', 'max_order',\n",
       "       'loyalty_flag', 'avg_price', 'spending_flag', 'median_days_last_order',\n",
       "       'frequency_flag', 'last_name', 'gender', 'state', 'age', 'date_joined',\n",
       "       'n_dependants', 'fam_status', 'income'],\n",
       "      dtype='object')"
      ]
     },
     "execution_count": 4,
     "metadata": {},
     "output_type": "execute_result"
    }
   ],
   "source": [
    "ords_prods_cust.columns"
   ]
  },
  {
   "cell_type": "code",
   "execution_count": 5,
   "id": "bff101ea",
   "metadata": {},
   "outputs": [
    {
     "data": {
      "text/plain": [
       "0    New customer\n",
       "1    New customer\n",
       "2    New customer\n",
       "3    New customer\n",
       "4    New customer\n",
       "Name: loyalty_flag, dtype: object"
      ]
     },
     "execution_count": 5,
     "metadata": {},
     "output_type": "execute_result"
    }
   ],
   "source": [
    "ords_prods_cust['loyalty_flag'].head()"
   ]
  },
  {
   "cell_type": "code",
   "execution_count": null,
   "id": "0f6fc0ad",
   "metadata": {},
   "outputs": [],
   "source": []
  }
 ],
 "metadata": {
  "kernelspec": {
   "display_name": "Python 3 (ipykernel)",
   "language": "python",
   "name": "python3"
  },
  "language_info": {
   "codemirror_mode": {
    "name": "ipython",
    "version": 3
   },
   "file_extension": ".py",
   "mimetype": "text/x-python",
   "name": "python",
   "nbconvert_exporter": "python",
   "pygments_lexer": "ipython3",
   "version": "3.10.9"
  }
 },
 "nbformat": 4,
 "nbformat_minor": 5
}
