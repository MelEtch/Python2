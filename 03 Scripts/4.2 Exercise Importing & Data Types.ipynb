{
 "cells": [
  {
   "cell_type": "markdown",
   "id": "25edea83",
   "metadata": {},
   "source": [
    "#01. Importing Libraries"
   ]
  },
  {
   "cell_type": "code",
   "execution_count": 1,
   "id": "782b5777",
   "metadata": {},
   "outputs": [],
   "source": [
    "#Import Libraries\n",
    "import pandas as pd\n",
    "import numpy as np\n",
    "import os"
   ]
  },
  {
   "cell_type": "markdown",
   "id": "83f65f6c",
   "metadata": {},
   "source": [
    "#02. Data Types"
   ]
  },
  {
   "cell_type": "code",
   "execution_count": 2,
   "id": "5b572349",
   "metadata": {},
   "outputs": [
    {
     "data": {
      "text/plain": [
       "100"
      ]
     },
     "execution_count": 2,
     "metadata": {},
     "output_type": "execute_result"
    }
   ],
   "source": [
    "#Calculate 100\n",
    "a=90\n",
    "b=10\n",
    "a+b"
   ]
  },
  {
   "cell_type": "code",
   "execution_count": 3,
   "id": "1599b248",
   "metadata": {},
   "outputs": [
    {
     "data": {
      "text/plain": [
       "100"
      ]
     },
     "execution_count": 3,
     "metadata": {},
     "output_type": "execute_result"
    }
   ],
   "source": [
    "#Calculate 100\n",
    "c=125\n",
    "d=25\n",
    "c-d"
   ]
  },
  {
   "cell_type": "code",
   "execution_count": 4,
   "id": "2d0e647f",
   "metadata": {},
   "outputs": [
    {
     "data": {
      "text/plain": [
       "100"
      ]
     },
     "execution_count": 4,
     "metadata": {},
     "output_type": "execute_result"
    }
   ],
   "source": [
    "#Calculate 100\n",
    "e=50\n",
    "f=50\n",
    "e+f"
   ]
  },
  {
   "cell_type": "code",
   "execution_count": 5,
   "id": "b5afd61b",
   "metadata": {},
   "outputs": [
    {
     "data": {
      "text/plain": [
       "3.1053333333333333"
      ]
     },
     "execution_count": 5,
     "metadata": {},
     "output_type": "execute_result"
    }
   ],
   "source": [
    "#divide floatingpoint variables\n",
    "g=2.25\n",
    "h=6.987\n",
    "h/g"
   ]
  },
  {
   "cell_type": "code",
   "execution_count": 6,
   "id": "aa89ea1f",
   "metadata": {},
   "outputs": [
    {
     "data": {
      "text/plain": [
       "'Good Luck'"
      ]
     },
     "execution_count": 6,
     "metadata": {},
     "output_type": "execute_result"
    }
   ],
   "source": [
    "#concatenate strings\n",
    "i=\"Good \"\n",
    "j=\"Luck\"\n",
    "i+j"
   ]
  },
  {
   "cell_type": "code",
   "execution_count": 8,
   "id": "95703dfa",
   "metadata": {},
   "outputs": [
    {
     "data": {
      "text/plain": [
       "'Good Luck learning to code.'"
      ]
     },
     "execution_count": 8,
     "metadata": {},
     "output_type": "execute_result"
    }
   ],
   "source": [
    "#concatenate short sentence\n",
    "k=\" learning\"\n",
    "l=\" to\"\n",
    "m=' code'\n",
    "p='.'\n",
    "i+j+k+l+m+p"
   ]
  },
  {
   "cell_type": "code",
   "execution_count": 9,
   "id": "33931fbc",
   "metadata": {},
   "outputs": [
    {
     "data": {
      "text/plain": [
       "'I hope learning to code is easy.'"
      ]
     },
     "execution_count": 9,
     "metadata": {},
     "output_type": "execute_result"
    }
   ],
   "source": [
    "#concatenate short sentence\n",
    "n=\"I hope\"\n",
    "o=\" is easy\"\n",
    "n+k+l+m+o+p"
   ]
  },
  {
   "cell_type": "code",
   "execution_count": 10,
   "id": "051dae26",
   "metadata": {},
   "outputs": [
    {
     "data": {
      "text/plain": [
       "'I hope learning to code is easy.I hope learning to code is easy.I hope learning to code is easy.I hope learning to code is easy.I hope learning to code is easy.I hope learning to code is easy.I hope learning to code is easy.I hope learning to code is easy.I hope learning to code is easy.I hope learning to code is easy.I hope learning to code is easy.I hope learning to code is easy.I hope learning to code is easy.I hope learning to code is easy.I hope learning to code is easy.I hope learning to code is easy.I hope learning to code is easy.I hope learning to code is easy.I hope learning to code is easy.I hope learning to code is easy.I hope learning to code is easy.I hope learning to code is easy.I hope learning to code is easy.I hope learning to code is easy.I hope learning to code is easy.I hope learning to code is easy.I hope learning to code is easy.I hope learning to code is easy.I hope learning to code is easy.I hope learning to code is easy.I hope learning to code is easy.I hope learning to code is easy.I hope learning to code is easy.I hope learning to code is easy.I hope learning to code is easy.I hope learning to code is easy.I hope learning to code is easy.I hope learning to code is easy.I hope learning to code is easy.I hope learning to code is easy.I hope learning to code is easy.I hope learning to code is easy.I hope learning to code is easy.I hope learning to code is easy.I hope learning to code is easy.I hope learning to code is easy.I hope learning to code is easy.I hope learning to code is easy.I hope learning to code is easy.I hope learning to code is easy.I hope learning to code is easy.I hope learning to code is easy.I hope learning to code is easy.I hope learning to code is easy.I hope learning to code is easy.I hope learning to code is easy.I hope learning to code is easy.I hope learning to code is easy.I hope learning to code is easy.I hope learning to code is easy.I hope learning to code is easy.I hope learning to code is easy.I hope learning to code is easy.I hope learning to code is easy.I hope learning to code is easy.I hope learning to code is easy.I hope learning to code is easy.I hope learning to code is easy.I hope learning to code is easy.I hope learning to code is easy.I hope learning to code is easy.I hope learning to code is easy.I hope learning to code is easy.I hope learning to code is easy.I hope learning to code is easy.I hope learning to code is easy.I hope learning to code is easy.I hope learning to code is easy.I hope learning to code is easy.I hope learning to code is easy.I hope learning to code is easy.I hope learning to code is easy.I hope learning to code is easy.I hope learning to code is easy.I hope learning to code is easy.I hope learning to code is easy.I hope learning to code is easy.I hope learning to code is easy.I hope learning to code is easy.I hope learning to code is easy.I hope learning to code is easy.I hope learning to code is easy.I hope learning to code is easy.I hope learning to code is easy.I hope learning to code is easy.I hope learning to code is easy.I hope learning to code is easy.I hope learning to code is easy.I hope learning to code is easy.I hope learning to code is easy.'"
      ]
     },
     "execution_count": 10,
     "metadata": {},
     "output_type": "execute_result"
    }
   ],
   "source": [
    "100*(n+k+l+m+o+p)"
   ]
  },
  {
   "cell_type": "code",
   "execution_count": null,
   "id": "95f0c39e",
   "metadata": {},
   "outputs": [],
   "source": []
  }
 ],
 "metadata": {
  "kernelspec": {
   "display_name": "Python 3 (ipykernel)",
   "language": "python",
   "name": "python3"
  },
  "language_info": {
   "codemirror_mode": {
    "name": "ipython",
    "version": 3
   },
   "file_extension": ".py",
   "mimetype": "text/x-python",
   "name": "python",
   "nbconvert_exporter": "python",
   "pygments_lexer": "ipython3",
   "version": "3.10.9"
  }
 },
 "nbformat": 4,
 "nbformat_minor": 5
}
