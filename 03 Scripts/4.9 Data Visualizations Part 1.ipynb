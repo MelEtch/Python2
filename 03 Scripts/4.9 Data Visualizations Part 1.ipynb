{
 "cells": [
  {
   "cell_type": "markdown",
   "id": "d3d7ea1d",
   "metadata": {},
   "source": [
    "#01 Import Libraries"
   ]
  },
  {
   "cell_type": "code",
   "execution_count": 1,
   "id": "8fb5535b",
   "metadata": {},
   "outputs": [],
   "source": [
    "import pandas as pd\n",
    "import numpy as np\n",
    "import os\n",
    "import matplotlib.pyplot as plt\n",
    "import seaborn as sns\n",
    "import scipy"
   ]
  },
  {
   "cell_type": "markdown",
   "id": "e64bcd77",
   "metadata": {},
   "source": [
    "#02 Import Data"
   ]
  },
  {
   "cell_type": "code",
   "execution_count": 2,
   "id": "384e2dab",
   "metadata": {},
   "outputs": [],
   "source": [
    "#define path to main Instacart project folder\n",
    "InstacartProjectFolder=r'C:\\Users\\user\\Instacart Basket Analysis 02042023'"
   ]
  },
  {
   "cell_type": "code",
   "execution_count": null,
   "id": "3eb8f7d0",
   "metadata": {},
   "outputs": [],
   "source": [
    "# import customers data set\n",
    "cust_data=pd.read_csv(os.path.join(InstacartProjectFolder,'02 Data','Original Data','customers.csv'))"
   ]
  },
  {
   "cell_type": "code",
   "execution_count": null,
   "id": "3cdd3aca",
   "metadata": {},
   "outputs": [],
   "source": [
    "cust_data.head()"
   ]
  },
  {
   "cell_type": "markdown",
   "id": "d1282e18",
   "metadata": {},
   "source": [
    "#03 Check Data Quality & Wrangle as necessary"
   ]
  },
  {
   "cell_type": "code",
   "execution_count": null,
   "id": "fe351828",
   "metadata": {},
   "outputs": [],
   "source": [
    "cust_data.shape"
   ]
  },
  {
   "cell_type": "code",
   "execution_count": null,
   "id": "25d06555",
   "metadata": {},
   "outputs": [],
   "source": [
    "cust_data.info()"
   ]
  },
  {
   "cell_type": "markdown",
   "id": "ee27ca3b",
   "metadata": {},
   "source": [
    "#Observation --> user_id needs to change data type "
   ]
  },
  {
   "cell_type": "code",
   "execution_count": null,
   "id": "2b492ee4",
   "metadata": {},
   "outputs": [],
   "source": [
    "cust_data['user_id'].value_counts(dropna=False)"
   ]
  },
  {
   "cell_type": "code",
   "execution_count": null,
   "id": "718210d2",
   "metadata": {},
   "outputs": [],
   "source": [
    "cust_data['user_id'].describe()"
   ]
  },
  {
   "cell_type": "code",
   "execution_count": null,
   "id": "36a34a8a",
   "metadata": {},
   "outputs": [],
   "source": [
    "cust_data['First Name'].value_counts(dropna=False)"
   ]
  },
  {
   "cell_type": "code",
   "execution_count": null,
   "id": "6dc378bd",
   "metadata": {},
   "outputs": [],
   "source": [
    "cust_data['First Name'].describe()"
   ]
  },
  {
   "cell_type": "code",
   "execution_count": null,
   "id": "1c5534b7",
   "metadata": {},
   "outputs": [],
   "source": [
    "206209 - 194950"
   ]
  },
  {
   "cell_type": "code",
   "execution_count": null,
   "id": "5784d0fb",
   "metadata": {},
   "outputs": [],
   "source": [
    "11259/206209"
   ]
  },
  {
   "cell_type": "markdown",
   "id": "b124e052",
   "metadata": {},
   "source": [
    "#observation --> there are missing values in First Name\n",
    "Total Rows in data set = 206209\n",
    "Count of First Name = 194950\n",
    "Difference = 11259, which is same as count of NaNs\n",
    "This is 5.5% of data.  I must decide if I can omit, replace, or leave blank.\n"
   ]
  },
  {
   "cell_type": "code",
   "execution_count": null,
   "id": "190fb669",
   "metadata": {},
   "outputs": [],
   "source": [
    "cust_data['Surnam'].value_counts(dropna=False)"
   ]
  },
  {
   "cell_type": "code",
   "execution_count": null,
   "id": "051e4ddc",
   "metadata": {},
   "outputs": [],
   "source": [
    "cust_data['Surnam'].describe()"
   ]
  },
  {
   "cell_type": "markdown",
   "id": "3ed0ad52",
   "metadata": {},
   "source": [
    "#observation --> surnam is complete data set.  All rows have a value.\n",
    "Column name should be replaced with correct spelling.\n",
    "It is possible to define data key with combination of user_id and last name (surnam) value.  Therefore, First Name column is not necessary and can be omitted."
   ]
  },
  {
   "cell_type": "code",
   "execution_count": null,
   "id": "f21dfb97",
   "metadata": {},
   "outputs": [],
   "source": [
    "cust_data['Gender'].value_counts(dropna=False)"
   ]
  },
  {
   "cell_type": "code",
   "execution_count": null,
   "id": "ca9f5a16",
   "metadata": {},
   "outputs": [],
   "source": [
    "cust_data['Gender'].describe()"
   ]
  },
  {
   "cell_type": "markdown",
   "id": "858f001d",
   "metadata": {},
   "source": [
    "#observation --> Gender is complete data set and can be used for analysis.  However, it may only provide value depending on the business question that needs to be answered."
   ]
  },
  {
   "cell_type": "code",
   "execution_count": null,
   "id": "6f2f3bca",
   "metadata": {},
   "outputs": [],
   "source": [
    "cust_data['STATE'].value_counts(dropna=False)"
   ]
  },
  {
   "cell_type": "code",
   "execution_count": null,
   "id": "04b1258b",
   "metadata": {},
   "outputs": [],
   "source": [
    "cust_data['STATE'].describe()"
   ]
  },
  {
   "cell_type": "markdown",
   "id": "d95c4f7f",
   "metadata": {},
   "source": [
    "#0bservation --> STATE is complete data set and can be used for analysis.  Column name should be changed to match formatting of other column names."
   ]
  },
  {
   "cell_type": "code",
   "execution_count": null,
   "id": "60c0fb06",
   "metadata": {},
   "outputs": [],
   "source": [
    "cust_data['Age'].value_counts(dropna=False)"
   ]
  },
  {
   "cell_type": "code",
   "execution_count": null,
   "id": "9397580e",
   "metadata": {},
   "outputs": [],
   "source": [
    "cust_data['Age'].describe()"
   ]
  },
  {
   "cell_type": "markdown",
   "id": "6bbbb386",
   "metadata": {},
   "source": [
    "#Observation --> Age is complete dataset, no outliers.  It can be used in analysis."
   ]
  },
  {
   "cell_type": "code",
   "execution_count": null,
   "id": "0e10f48b",
   "metadata": {},
   "outputs": [],
   "source": [
    "cust_data['date_joined'].value_counts(dropna=False)"
   ]
  },
  {
   "cell_type": "code",
   "execution_count": null,
   "id": "ea6f9bc5",
   "metadata": {},
   "outputs": [],
   "source": [
    "cust_data['date_joined'].describe()"
   ]
  },
  {
   "cell_type": "markdown",
   "id": "006d874a",
   "metadata": {},
   "source": [
    "#Observation --> date_joined is complete data set.  It can be used in Analysis."
   ]
  },
  {
   "cell_type": "code",
   "execution_count": null,
   "id": "c9f0ea90",
   "metadata": {},
   "outputs": [],
   "source": [
    "cust_data['n_dependants'].value_counts(dropna=False)"
   ]
  },
  {
   "cell_type": "code",
   "execution_count": null,
   "id": "2c9b39dc",
   "metadata": {},
   "outputs": [],
   "source": [
    "cust_data['n_dependants'].describe()"
   ]
  },
  {
   "cell_type": "markdown",
   "id": "a7dba8aa",
   "metadata": {},
   "source": [
    "#Observation --> n_dependants is complete data set with no outliers.  This can be used in analysis."
   ]
  },
  {
   "cell_type": "code",
   "execution_count": null,
   "id": "abad6420",
   "metadata": {},
   "outputs": [],
   "source": [
    "cust_data['fam_status'].value_counts(dropna=False)"
   ]
  },
  {
   "cell_type": "code",
   "execution_count": null,
   "id": "06fda2e5",
   "metadata": {},
   "outputs": [],
   "source": [
    "cust_data['fam_status'].describe()"
   ]
  },
  {
   "cell_type": "markdown",
   "id": "0c15277f",
   "metadata": {},
   "source": [
    "#Observation --> fam_status is complete data set and can be used in analysis."
   ]
  },
  {
   "cell_type": "code",
   "execution_count": null,
   "id": "5bc88c57",
   "metadata": {},
   "outputs": [],
   "source": [
    "cust_data['income'].value_counts(dropna=False)"
   ]
  },
  {
   "cell_type": "code",
   "execution_count": null,
   "id": "f5f01cbb",
   "metadata": {},
   "outputs": [],
   "source": [
    "cust_data['income'].describe()"
   ]
  },
  {
   "cell_type": "markdown",
   "id": "64cd9043",
   "metadata": {},
   "source": [
    "#Observation --> Income is a complete data set.  The maximum value 593,000 implies this data set is left-skewed, which is typical of income data. This can be used in analysis."
   ]
  },
  {
   "cell_type": "markdown",
   "id": "975296de",
   "metadata": {},
   "source": [
    "#Overall Changes to this data\n",
    "1. Reimport data and omit First Name since it has missing values and the same information can be found from other variables.\n",
    "2. Rename Surnam and STATE columns to follow formatting of other column names.\n",
    "3. Change User_id data type to string.\n",
    "\n",
    "Before moving forward, I will close and halt these scripts, then start importing my libraries and data sets again in order to save memory space."
   ]
  },
  {
   "cell_type": "code",
   "execution_count": null,
   "id": "1c3fac0f",
   "metadata": {},
   "outputs": [],
   "source": [
    "#import important columns only, omit First Name\n",
    "vars_list = ['user_id', 'Surnam', 'Gender', 'STATE', 'Age','date_joined','n_dependants','fam_status','income']\n",
    "df_cust=pd.read_csv(os.path.join(InstacartProjectFolder,'02 Data','Original Data','customers.csv'),usecols=vars_list)"
   ]
  },
  {
   "cell_type": "code",
   "execution_count": null,
   "id": "852569b3",
   "metadata": {},
   "outputs": [],
   "source": [
    "#confirm only correct columns have been imported\n",
    "df_cust.head()"
   ]
  },
  {
   "cell_type": "code",
   "execution_count": null,
   "id": "1583d3b8",
   "metadata": {},
   "outputs": [],
   "source": [
    "#change Surname to last_name\n",
    "df_cust.rename(columns = {'Surnam' : 'last_name'}, inplace = True)"
   ]
  },
  {
   "cell_type": "code",
   "execution_count": null,
   "id": "a5d8259e",
   "metadata": {},
   "outputs": [],
   "source": [
    "#change STATE to state\n",
    "df_cust.rename(columns = {'STATE' : 'state'}, inplace = True)"
   ]
  },
  {
   "cell_type": "code",
   "execution_count": null,
   "id": "17c9db3c",
   "metadata": {},
   "outputs": [],
   "source": [
    "#change Gender to gender and Age to age so that all column names are lower case\n",
    "df_cust.rename(columns = {'Gender' : 'gender'}, inplace = True)\n",
    "df_cust.rename(columns = {'Age' : 'age'}, inplace = True)"
   ]
  },
  {
   "cell_type": "code",
   "execution_count": null,
   "id": "e61e8246",
   "metadata": {},
   "outputs": [],
   "source": [
    "#confirm column names are correct\n",
    "df_cust.head()"
   ]
  },
  {
   "cell_type": "code",
   "execution_count": null,
   "id": "9487efcd",
   "metadata": {},
   "outputs": [],
   "source": [
    "#change data type on user_id from int64 to string\n",
    "df_cust['user_id'] = df_cust['user_id'].astype('str')"
   ]
  },
  {
   "cell_type": "code",
   "execution_count": null,
   "id": "72efbabf",
   "metadata": {},
   "outputs": [],
   "source": [
    "#confirm data types\n",
    "df_cust.info()"
   ]
  },
  {
   "cell_type": "code",
   "execution_count": null,
   "id": "e8feb806",
   "metadata": {},
   "outputs": [],
   "source": [
    "#confirm any duplicated rows of data\n",
    "df_cust.duplicated()"
   ]
  },
  {
   "cell_type": "code",
   "execution_count": null,
   "id": "72ec50c6",
   "metadata": {},
   "outputs": [],
   "source": [
    "#export wrangled data set\n",
    "df_cust.to_pickle(os.path.join(InstacartProjectFolder, '02 Data','Prepared Data', 'customers_wrangled.pkl'))"
   ]
  },
  {
   "cell_type": "markdown",
   "id": "71dd8e17",
   "metadata": {},
   "source": [
    "#Question 6 -- Merge with other datasets.\n",
    "Before moving forward, I will close and halt these scripts, then reimport library and merged data set in order to save memory."
   ]
  },
  {
   "cell_type": "code",
   "execution_count": null,
   "id": "2a7e0412",
   "metadata": {},
   "outputs": [],
   "source": [
    "#import wrangled data set\n",
    "# import customers data set\n",
    "cust_wrang=pd.read_pickle(os.path.join(InstacartProjectFolder,'02 Data','Prepared Data','customers_wrangled.pkl'))"
   ]
  },
  {
   "cell_type": "code",
   "execution_count": null,
   "id": "052f6a1e",
   "metadata": {},
   "outputs": [],
   "source": [
    "#check head of each data set to confirm merging variable (user_id?)\n",
    "cust_wrang.head()"
   ]
  },
  {
   "cell_type": "code",
   "execution_count": null,
   "id": "e15319f2",
   "metadata": {},
   "outputs": [],
   "source": [
    "#create small random data set from ords & prods merged data"
   ]
  },
  {
   "cell_type": "code",
   "execution_count": null,
   "id": "11bbcbd5",
   "metadata": {},
   "outputs": [],
   "source": [
    "#import final version orders & prods data\n",
    "ords_prods_final=pd.read_pickle(os.path.join(InstacartProjectFolder,'02 Data','Prepared Data','orders_with_flags.pkl'))"
   ]
  },
  {
   "cell_type": "code",
   "execution_count": null,
   "id": "d9d6d226",
   "metadata": {},
   "outputs": [],
   "source": [
    "#Create true/false list according to random assignment\n",
    "np.random.seed(4)\n",
    "dev2 = np.random.rand(len(ords_prods_final)) <= 0.7"
   ]
  },
  {
   "cell_type": "code",
   "execution_count": null,
   "id": "aa35f0c5",
   "metadata": {},
   "outputs": [],
   "source": [
    "#check true/false list\n",
    "dev2"
   ]
  },
  {
   "cell_type": "code",
   "execution_count": null,
   "id": "e104b394",
   "metadata": {},
   "outputs": [],
   "source": [
    "#seperate into 'true' values \n",
    "big2 = ords_prods_final[dev2]"
   ]
  },
  {
   "cell_type": "code",
   "execution_count": null,
   "id": "9b6c85cb",
   "metadata": {},
   "outputs": [],
   "source": [
    "#seperate into 'false' values\n",
    "small2 = ords_prods_final[~dev2]"
   ]
  },
  {
   "cell_type": "code",
   "execution_count": null,
   "id": "60bcdf24",
   "metadata": {},
   "outputs": [],
   "source": [
    "small2.head()"
   ]
  },
  {
   "cell_type": "code",
   "execution_count": null,
   "id": "e131219c",
   "metadata": {},
   "outputs": [],
   "source": [
    "small2.info()"
   ]
  },
  {
   "cell_type": "code",
   "execution_count": null,
   "id": "ae9b904a",
   "metadata": {},
   "outputs": [],
   "source": [
    "#export small data set as pickle\n",
    "#export wrangled data set\n",
    "small2.to_pickle(os.path.join(InstacartProjectFolder, '02 Data','Prepared Data', 'ords_prods_small.pkl'))"
   ]
  },
  {
   "cell_type": "code",
   "execution_count": null,
   "id": "45d683a7",
   "metadata": {},
   "outputs": [],
   "source": [
    "#import full cust_wrang, and small ords_prods data"
   ]
  },
  {
   "cell_type": "code",
   "execution_count": null,
   "id": "32ad2bc4",
   "metadata": {},
   "outputs": [],
   "source": [
    "#import cust_wrang\n",
    "cust_wrang=pd.read_pickle(os.path.join(InstacartProjectFolder,'02 Data','Prepared Data','customers_wrangled.pkl'))"
   ]
  },
  {
   "cell_type": "code",
   "execution_count": null,
   "id": "f1846b4c",
   "metadata": {},
   "outputs": [],
   "source": [
    "#import ords_prods_small\n",
    "ords_prods_small=pd.read_pickle(os.path.join(InstacartProjectFolder,'02 Data','Prepared Data','ords_prods_small.pkl'))"
   ]
  },
  {
   "cell_type": "code",
   "execution_count": null,
   "id": "cfbeb88a",
   "metadata": {},
   "outputs": [],
   "source": [
    "#merge datasets using merge function on user_id with indicator\n",
    "#df_merged = df.merge(df_2, on = 'customer_id')\n",
    "ords_prods_cust = ords_prods_small.merge(cust_wrang, on ='user_id')"
   ]
  },
  {
   "cell_type": "code",
   "execution_count": null,
   "id": "b89a1742",
   "metadata": {},
   "outputs": [],
   "source": [
    "ords_prods_cust.head()"
   ]
  },
  {
   "cell_type": "code",
   "execution_count": null,
   "id": "175c2fd4",
   "metadata": {},
   "outputs": [],
   "source": [
    "ords_prods_cust.describe()"
   ]
  },
  {
   "cell_type": "code",
   "execution_count": null,
   "id": "6c8599b4",
   "metadata": {},
   "outputs": [],
   "source": [
    "ords_prods_cust.info()"
   ]
  },
  {
   "cell_type": "code",
   "execution_count": null,
   "id": "8bd77f45",
   "metadata": {},
   "outputs": [],
   "source": [
    "#export final data set of combined data\n",
    "ords_prods_cust.to_pickle(os.path.join(InstacartProjectFolder, '02 Data','Prepared Data', 'ords_prods_cust_merge.pkl'))"
   ]
  },
  {
   "cell_type": "code",
   "execution_count": null,
   "id": "e66cd598",
   "metadata": {},
   "outputs": [],
   "source": []
  }
 ],
 "metadata": {
  "kernelspec": {
   "display_name": "Python 3 (ipykernel)",
   "language": "python",
   "name": "python3"
  },
  "language_info": {
   "codemirror_mode": {
    "name": "ipython",
    "version": 3
   },
   "file_extension": ".py",
   "mimetype": "text/x-python",
   "name": "python",
   "nbconvert_exporter": "python",
   "pygments_lexer": "ipython3",
   "version": "3.10.9"
  }
 },
 "nbformat": 4,
 "nbformat_minor": 5
}
