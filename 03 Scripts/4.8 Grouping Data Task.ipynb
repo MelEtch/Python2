{
 "cells": [
  {
   "cell_type": "markdown",
   "id": "c19bc4de",
   "metadata": {},
   "source": [
    "#01 Import Libraries"
   ]
  },
  {
   "cell_type": "code",
   "execution_count": 1,
   "id": "d509a708",
   "metadata": {},
   "outputs": [],
   "source": [
    "#Import Libraries\n",
    "import pandas as pd\n",
    "import numpy as np\n",
    "import os"
   ]
  },
  {
   "cell_type": "markdown",
   "id": "b4026f4d",
   "metadata": {},
   "source": [
    "#02 Import Data"
   ]
  },
  {
   "cell_type": "code",
   "execution_count": 2,
   "id": "3d8f3c34",
   "metadata": {},
   "outputs": [],
   "source": [
    "#define path to main Instacart project folder\n",
    "InstacartProjectFolder=r'C:\\Users\\user\\Instacart Basket Analysis 02042023'"
   ]
  },
  {
   "cell_type": "code",
   "execution_count": 4,
   "id": "5f97fc50",
   "metadata": {},
   "outputs": [],
   "source": [
    "#import orders data sets\n",
    "ords_prods_merge=pd.read_pickle(os.path.join(InstacartProjectFolder,'02 Data','Prepared Data','orders_new_variables.pkl'))"
   ]
  },
  {
   "cell_type": "code",
   "execution_count": 5,
   "id": "7d798b29",
   "metadata": {},
   "outputs": [
    {
     "data": {
      "text/html": [
       "<div>\n",
       "<style scoped>\n",
       "    .dataframe tbody tr th:only-of-type {\n",
       "        vertical-align: middle;\n",
       "    }\n",
       "\n",
       "    .dataframe tbody tr th {\n",
       "        vertical-align: top;\n",
       "    }\n",
       "\n",
       "    .dataframe thead tr th {\n",
       "        text-align: left;\n",
       "    }\n",
       "\n",
       "    .dataframe thead tr:last-of-type th {\n",
       "        text-align: right;\n",
       "    }\n",
       "</style>\n",
       "<table border=\"1\" class=\"dataframe\">\n",
       "  <thead>\n",
       "    <tr>\n",
       "      <th></th>\n",
       "      <th>order_number</th>\n",
       "    </tr>\n",
       "    <tr>\n",
       "      <th></th>\n",
       "      <th>mean</th>\n",
       "    </tr>\n",
       "    <tr>\n",
       "      <th>department_id</th>\n",
       "      <th></th>\n",
       "    </tr>\n",
       "  </thead>\n",
       "  <tbody>\n",
       "    <tr>\n",
       "      <th>1</th>\n",
       "      <td>15.457838</td>\n",
       "    </tr>\n",
       "    <tr>\n",
       "      <th>2</th>\n",
       "      <td>17.277920</td>\n",
       "    </tr>\n",
       "    <tr>\n",
       "      <th>3</th>\n",
       "      <td>17.170395</td>\n",
       "    </tr>\n",
       "    <tr>\n",
       "      <th>4</th>\n",
       "      <td>17.811403</td>\n",
       "    </tr>\n",
       "    <tr>\n",
       "      <th>5</th>\n",
       "      <td>15.215751</td>\n",
       "    </tr>\n",
       "    <tr>\n",
       "      <th>6</th>\n",
       "      <td>16.439806</td>\n",
       "    </tr>\n",
       "    <tr>\n",
       "      <th>7</th>\n",
       "      <td>17.225802</td>\n",
       "    </tr>\n",
       "    <tr>\n",
       "      <th>8</th>\n",
       "      <td>15.340650</td>\n",
       "    </tr>\n",
       "    <tr>\n",
       "      <th>9</th>\n",
       "      <td>15.895474</td>\n",
       "    </tr>\n",
       "    <tr>\n",
       "      <th>10</th>\n",
       "      <td>20.197148</td>\n",
       "    </tr>\n",
       "    <tr>\n",
       "      <th>11</th>\n",
       "      <td>16.170638</td>\n",
       "    </tr>\n",
       "    <tr>\n",
       "      <th>12</th>\n",
       "      <td>15.887671</td>\n",
       "    </tr>\n",
       "    <tr>\n",
       "      <th>13</th>\n",
       "      <td>16.583536</td>\n",
       "    </tr>\n",
       "    <tr>\n",
       "      <th>14</th>\n",
       "      <td>16.773669</td>\n",
       "    </tr>\n",
       "    <tr>\n",
       "      <th>15</th>\n",
       "      <td>16.165037</td>\n",
       "    </tr>\n",
       "    <tr>\n",
       "      <th>16</th>\n",
       "      <td>17.665606</td>\n",
       "    </tr>\n",
       "    <tr>\n",
       "      <th>17</th>\n",
       "      <td>15.694469</td>\n",
       "    </tr>\n",
       "    <tr>\n",
       "      <th>18</th>\n",
       "      <td>19.310397</td>\n",
       "    </tr>\n",
       "    <tr>\n",
       "      <th>19</th>\n",
       "      <td>17.177343</td>\n",
       "    </tr>\n",
       "    <tr>\n",
       "      <th>20</th>\n",
       "      <td>16.473447</td>\n",
       "    </tr>\n",
       "    <tr>\n",
       "      <th>21</th>\n",
       "      <td>22.902379</td>\n",
       "    </tr>\n",
       "  </tbody>\n",
       "</table>\n",
       "</div>"
      ],
      "text/plain": [
       "              order_number\n",
       "                      mean\n",
       "department_id             \n",
       "1                15.457838\n",
       "2                17.277920\n",
       "3                17.170395\n",
       "4                17.811403\n",
       "5                15.215751\n",
       "6                16.439806\n",
       "7                17.225802\n",
       "8                15.340650\n",
       "9                15.895474\n",
       "10               20.197148\n",
       "11               16.170638\n",
       "12               15.887671\n",
       "13               16.583536\n",
       "14               16.773669\n",
       "15               16.165037\n",
       "16               17.665606\n",
       "17               15.694469\n",
       "18               19.310397\n",
       "19               17.177343\n",
       "20               16.473447\n",
       "21               22.902379"
      ]
     },
     "execution_count": 5,
     "metadata": {},
     "output_type": "execute_result"
    }
   ],
   "source": [
    "# Question 2 - find aggregated mean for order number on complete data set\n",
    "ords_prods_merge.groupby('department_id').agg({'order_number': ['mean']})"
   ]
  },
  {
   "cell_type": "markdown",
   "id": "cb7367a6",
   "metadata": {},
   "source": [
    "#0 Question 3 - The output from the entire data set is different from the subset in the following ways\n",
    "- every department id from 1 to 21 is included in the list\n",
    "- the average values for oder_number have changed\n",
    "\n",
    "Both of these are due to more rows of data contributing to the calculation"
   ]
  },
  {
   "cell_type": "markdown",
   "id": "513f577c",
   "metadata": {},
   "source": [
    "#0 Question 4 - Loyalty flags on complete data set"
   ]
  },
  {
   "cell_type": "code",
   "execution_count": 6,
   "id": "e24261e0",
   "metadata": {},
   "outputs": [],
   "source": [
    "# step 1 - add new column using transform() function\n",
    "ords_prods_merge['max_order'] = ords_prods_merge.groupby(['user_id'])['order_number'].transform(np.max)"
   ]
  },
  {
   "cell_type": "code",
   "execution_count": 9,
   "id": "c97a7a5a",
   "metadata": {},
   "outputs": [],
   "source": [
    "# step 2 - add flag for loyal customers\n",
    "ords_prods_merge.loc[ords_prods_merge['max_order'] > 40, 'loyalty_flag'] = 'Loyal customer'"
   ]
  },
  {
   "cell_type": "code",
   "execution_count": 10,
   "id": "3c78ba79",
   "metadata": {},
   "outputs": [],
   "source": [
    "# step 3 - add flag for regular customers\n",
    "ords_prods_merge.loc[(ords_prods_merge['max_order'] <= 40) & (ords_prods_merge['max_order'] > 10), 'loyalty_flag'] = 'Regular customer'"
   ]
  },
  {
   "cell_type": "code",
   "execution_count": 11,
   "id": "50deccae",
   "metadata": {},
   "outputs": [],
   "source": [
    "# step 4 - add flag for new customers\n",
    "ords_prods_merge.loc[ords_prods_merge['max_order'] <= 10, 'loyalty_flag'] = 'New customer'"
   ]
  },
  {
   "cell_type": "code",
   "execution_count": 12,
   "id": "99f170df",
   "metadata": {},
   "outputs": [
    {
     "data": {
      "text/plain": [
       "Regular customer    15876776\n",
       "Loyal customer      10284093\n",
       "New customer         6243990\n",
       "Name: loyalty_flag, dtype: int64"
      ]
     },
     "execution_count": 12,
     "metadata": {},
     "output_type": "execute_result"
    }
   ],
   "source": [
    "#step 5, show counts for new column\n",
    "ords_prods_merge['loyalty_flag'].value_counts(dropna = False)"
   ]
  },
  {
   "cell_type": "markdown",
   "id": "843809de",
   "metadata": {},
   "source": [
    "#0 Question 5 - find descriptive statistics for price on each loyalty category"
   ]
  },
  {
   "cell_type": "code",
   "execution_count": 14,
   "id": "b26a8b89",
   "metadata": {},
   "outputs": [
    {
     "data": {
      "text/html": [
       "<div>\n",
       "<style scoped>\n",
       "    .dataframe tbody tr th:only-of-type {\n",
       "        vertical-align: middle;\n",
       "    }\n",
       "\n",
       "    .dataframe tbody tr th {\n",
       "        vertical-align: top;\n",
       "    }\n",
       "\n",
       "    .dataframe thead tr th {\n",
       "        text-align: left;\n",
       "    }\n",
       "\n",
       "    .dataframe thead tr:last-of-type th {\n",
       "        text-align: right;\n",
       "    }\n",
       "</style>\n",
       "<table border=\"1\" class=\"dataframe\">\n",
       "  <thead>\n",
       "    <tr>\n",
       "      <th></th>\n",
       "      <th colspan=\"3\" halign=\"left\">prices</th>\n",
       "    </tr>\n",
       "    <tr>\n",
       "      <th></th>\n",
       "      <th>mean</th>\n",
       "      <th>min</th>\n",
       "      <th>max</th>\n",
       "    </tr>\n",
       "    <tr>\n",
       "      <th>loyalty_flag</th>\n",
       "      <th></th>\n",
       "      <th></th>\n",
       "      <th></th>\n",
       "    </tr>\n",
       "  </thead>\n",
       "  <tbody>\n",
       "    <tr>\n",
       "      <th>Loyal customer</th>\n",
       "      <td>10.386336</td>\n",
       "      <td>1.0</td>\n",
       "      <td>99999.0</td>\n",
       "    </tr>\n",
       "    <tr>\n",
       "      <th>New customer</th>\n",
       "      <td>13.294670</td>\n",
       "      <td>1.0</td>\n",
       "      <td>99999.0</td>\n",
       "    </tr>\n",
       "    <tr>\n",
       "      <th>Regular customer</th>\n",
       "      <td>12.495717</td>\n",
       "      <td>1.0</td>\n",
       "      <td>99999.0</td>\n",
       "    </tr>\n",
       "  </tbody>\n",
       "</table>\n",
       "</div>"
      ],
      "text/plain": [
       "                     prices              \n",
       "                       mean  min      max\n",
       "loyalty_flag                             \n",
       "Loyal customer    10.386336  1.0  99999.0\n",
       "New customer      13.294670  1.0  99999.0\n",
       "Regular customer  12.495717  1.0  99999.0"
      ]
     },
     "execution_count": 14,
     "metadata": {},
     "output_type": "execute_result"
    }
   ],
   "source": [
    "ords_prods_merge.groupby('loyalty_flag').agg({'prices': ['mean','min','max']})"
   ]
  },
  {
   "cell_type": "markdown",
   "id": "5e5fbf1b",
   "metadata": {},
   "source": [
    "Based on this output, loyal customers tend to purchase the cheapest products. Perhaps they know how to watch for sales."
   ]
  },
  {
   "cell_type": "markdown",
   "id": "f8b63c1a",
   "metadata": {},
   "source": [
    "#0 Question 6 - Create Spending Flag"
   ]
  },
  {
   "cell_type": "code",
   "execution_count": 24,
   "id": "73b7d9eb",
   "metadata": {},
   "outputs": [],
   "source": [
    "# step 1 - add new column using transform() function\n",
    "ords_prods_merge['avg_price'] = ords_prods_merge.groupby(['user_id'])['prices'].transform(np.mean)"
   ]
  },
  {
   "cell_type": "code",
   "execution_count": 25,
   "id": "1d541472",
   "metadata": {},
   "outputs": [],
   "source": [
    "# step 2 - add flag for low spenders\n",
    "ords_prods_merge.loc[ords_prods_merge['avg_price'] <10, 'spending_flag'] = 'low spender'"
   ]
  },
  {
   "cell_type": "code",
   "execution_count": 26,
   "id": "37180033",
   "metadata": {},
   "outputs": [],
   "source": [
    "# step 3 - add flag for high spenders\n",
    "ords_prods_merge.loc[ords_prods_merge['avg_price'] >=10, 'spending_flag'] = 'high spender'"
   ]
  },
  {
   "cell_type": "code",
   "execution_count": 27,
   "id": "b504df3d",
   "metadata": {},
   "outputs": [
    {
     "data": {
      "text/plain": [
       "low spender     31770614\n",
       "high spender      634245\n",
       "Name: spending_flag, dtype: int64"
      ]
     },
     "execution_count": 27,
     "metadata": {},
     "output_type": "execute_result"
    }
   ],
   "source": [
    "#step 4 check counts for each flag\n",
    "ords_prods_merge['spending_flag'].value_counts(dropna = False)"
   ]
  },
  {
   "cell_type": "markdown",
   "id": "2ac273f7",
   "metadata": {},
   "source": [
    "#0 Question 7 - Create order frequency flag"
   ]
  },
  {
   "cell_type": "code",
   "execution_count": 28,
   "id": "8be3539b",
   "metadata": {},
   "outputs": [],
   "source": [
    "# step 1 - add new column using transform() function\n",
    "ords_prods_merge['median_days_last_order'] = ords_prods_merge.groupby(['user_id'])['days_since_prior_order'].transform(np.median)"
   ]
  },
  {
   "cell_type": "code",
   "execution_count": 29,
   "id": "c21e560e",
   "metadata": {},
   "outputs": [],
   "source": [
    "# step 2 - add flag for non-frequent customer\n",
    "ords_prods_merge.loc[ords_prods_merge['median_days_last_order'] > 20, 'frequency_flag'] = 'non-frequent customer'"
   ]
  },
  {
   "cell_type": "code",
   "execution_count": 30,
   "id": "76ba9bbb",
   "metadata": {},
   "outputs": [],
   "source": [
    "# step 3 - add flag for regular customers\n",
    "ords_prods_merge.loc[(ords_prods_merge['median_days_last_order'] > 10) & (ords_prods_merge['median_days_last_order'] <= 20), 'frequency_flag'] = 'Regular customer'"
   ]
  },
  {
   "cell_type": "code",
   "execution_count": 31,
   "id": "6600ff9a",
   "metadata": {},
   "outputs": [],
   "source": [
    "# step 4 - add flag for frequent customer\n",
    "ords_prods_merge.loc[ords_prods_merge['median_days_last_order']  <=10, 'frequency_flag'] = 'frequent customer'"
   ]
  },
  {
   "cell_type": "code",
   "execution_count": 32,
   "id": "80970bef",
   "metadata": {},
   "outputs": [
    {
     "data": {
      "text/plain": [
       "frequent customer        21559853\n",
       "Regular customer          7208564\n",
       "non-frequent customer     3636437\n",
       "NaN                             5\n",
       "Name: frequency_flag, dtype: int64"
      ]
     },
     "execution_count": 32,
     "metadata": {},
     "output_type": "execute_result"
    }
   ],
   "source": [
    "#step 5 - check counts for each flag\n",
    "ords_prods_merge['frequency_flag'].value_counts(dropna = False)"
   ]
  },
  {
   "cell_type": "code",
   "execution_count": 33,
   "id": "ef7f0eff",
   "metadata": {},
   "outputs": [
    {
     "data": {
      "text/plain": [
       "7.0     5682399\n",
       "6.0     2983604\n",
       "8.0     2713964\n",
       "5.0     2486061\n",
       "4.0     2314289\n",
       "         ...   \n",
       "26.5       5514\n",
       "29.5       5095\n",
       "1.5        1684\n",
       "0.5         235\n",
       "NaN           5\n",
       "Name: median_days_last_order, Length: 62, dtype: int64"
      ]
     },
     "execution_count": 33,
     "metadata": {},
     "output_type": "execute_result"
    }
   ],
   "source": [
    "ords_prods_merge['median_days_last_order'].value_counts(dropna = False)"
   ]
  },
  {
   "cell_type": "code",
   "execution_count": 34,
   "id": "11c68cad",
   "metadata": {},
   "outputs": [
    {
     "data": {
      "text/plain": [
       "(32404859,)"
      ]
     },
     "execution_count": 34,
     "metadata": {},
     "output_type": "execute_result"
    }
   ],
   "source": [
    "ords_prods_merge['median_days_last_order'].shape"
   ]
  },
  {
   "cell_type": "code",
   "execution_count": 35,
   "id": "b0dbfcf0",
   "metadata": {},
   "outputs": [
    {
     "data": {
      "text/plain": [
       "7.0     3476198\n",
       "30.0    3067374\n",
       "6.0     2517498\n",
       "5.0     2124434\n",
       "4.0     2078648\n",
       "NaN     2076096\n",
       "8.0     1931945\n",
       "3.0     1876188\n",
       "2.0     1463724\n",
       "9.0     1217841\n",
       "14.0    1029656\n",
       "10.0     967187\n",
       "1.0      940474\n",
       "13.0     851114\n",
       "11.0     820761\n",
       "12.0     774164\n",
       "15.0     671458\n",
       "16.0     461335\n",
       "0.0      448329\n",
       "21.0     444142\n",
       "17.0     382114\n",
       "20.0     379732\n",
       "18.0     350587\n",
       "19.0     334882\n",
       "22.0     308849\n",
       "28.0     253151\n",
       "23.0     225834\n",
       "27.0     204061\n",
       "24.0     193421\n",
       "25.0     180417\n",
       "26.0     177775\n",
       "29.0     175470\n",
       "Name: days_since_prior_order, dtype: int64"
      ]
     },
     "execution_count": 35,
     "metadata": {},
     "output_type": "execute_result"
    }
   ],
   "source": [
    "ords_prods_merge['days_since_prior_order'].value_counts(dropna = False)"
   ]
  },
  {
   "cell_type": "markdown",
   "id": "e39f9095",
   "metadata": {},
   "source": [
    "#0 - observation on frequency flag - there are 5 rows displaying NaN, which matches 5 rows in the newly created column median_days_last_order.  I am unsure why these 5 rows earn this value, perhaps it is because they have a NaN in the original days_since_prior_order column.  It seems my logic to create this flag is correct, and only 5 bad values would mean I could drop these from my analysis if necessary."
   ]
  },
  {
   "cell_type": "markdown",
   "id": "236b6ba2",
   "metadata": {},
   "source": [
    "#0 Question 9 - export as pickle file"
   ]
  },
  {
   "cell_type": "code",
   "execution_count": 36,
   "id": "26b51968",
   "metadata": {},
   "outputs": [],
   "source": [
    "ords_prods_merge.to_pickle(os.path.join(InstacartProjectFolder, '02 Data','Prepared Data', 'orders_with_flags.pkl'))"
   ]
  },
  {
   "cell_type": "code",
   "execution_count": null,
   "id": "7b5d63f4",
   "metadata": {},
   "outputs": [],
   "source": []
  }
 ],
 "metadata": {
  "kernelspec": {
   "display_name": "Python 3 (ipykernel)",
   "language": "python",
   "name": "python3"
  },
  "language_info": {
   "codemirror_mode": {
    "name": "ipython",
    "version": 3
   },
   "file_extension": ".py",
   "mimetype": "text/x-python",
   "name": "python",
   "nbconvert_exporter": "python",
   "pygments_lexer": "ipython3",
   "version": "3.10.9"
  }
 },
 "nbformat": 4,
 "nbformat_minor": 5
}
